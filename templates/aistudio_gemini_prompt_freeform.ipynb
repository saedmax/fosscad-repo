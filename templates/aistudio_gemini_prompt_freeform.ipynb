{
  "cells": [
    {
      "cell_type": "markdown",
      "metadata": {
        "id": "view-in-github",
        "colab_type": "text"
      },
      "source": [
        "<a href=\"https://colab.research.google.com/github/saedmax/fosscad-repo/blob/master/templates/aistudio_gemini_prompt_freeform.ipynb\" target=\"_parent\"><img src=\"https://colab.research.google.com/assets/colab-badge.svg\" alt=\"Open In Colab\"/></a>"
      ]
    },
    {
      "cell_type": "markdown",
      "source": [
        "# New Section"
      ],
      "metadata": {
        "id": "r8E4cqwG94WQ"
      }
    },
    {
      "source": [
        "import os\n",
        "\n",
        "# Create project directory\n",
        "os.makedirs('hse_app/templates', exist_ok=True)\n",
        "os.makedirs('hse_app/static', exist_ok=True)\n",
        "\n",
        "# Create files\n",
        "open('hse_app/app.py', 'w').close()\n",
        "open('hse_app/templates/index.html', 'w').close()\n",
        "open('hse_app/templates/risk_assessment.html', 'w').close()\n",
        "open('hse_app/static/style.css', 'w').close()"
      ],
      "cell_type": "code",
      "metadata": {
        "id": "1GLRFmL1DBNG"
      },
      "execution_count": 21,
      "outputs": []
    },
    {
      "source": [
        "from flask import Flask, render_template, request\n",
        "\n",
        "app = Flask(__name__)\n",
        "\n",
        "# Risk Assessment Tool\n",
        "def calculate_risk(likelihood, severity):\n",
        "    if likelihood == \"High\" and severity == \"High\":\n",
        "        return \"High\"\n",
        "    elif likelihood == \"Medium\" and severity == \"High\":\n",
        "        return \"Medium\"\n",
        "    # ... (Add more conditions for other risk levels)\n",
        "    else:\n",
        "        return \"Low\"\n",
        "\n",
        "@app.route('/', methods=['GET', 'POST'])\n",
        "def index():\n",
        "    risk_level = None\n",
        "    if request.method == 'POST':\n",
        "        hazard = request.form['hazard']\n",
        "        likelihood = request.form['likelihood']\n",
        "        severity = request.form['severity']\n",
        "        risk_level = calculate_risk(likelihood, severity)\n",
        "    return render_template('risk_assessment.html', risk_level=risk_level)\n",
        "\n",
        "if __name__ == '__main__':\n",
        "    app.run(debug=True)"
      ],
      "cell_type": "code",
      "metadata": {
        "id": "VPP5f641DNYE",
        "outputId": "8e05b020-59e7-4be3-b4c1-d298a207aa00",
        "colab": {
          "base_uri": "https://localhost:8080/"
        }
      },
      "execution_count": 22,
      "outputs": [
        {
          "output_type": "stream",
          "name": "stdout",
          "text": [
            " * Serving Flask app '__main__'\n",
            " * Debug mode: on\n"
          ]
        },
        {
          "output_type": "stream",
          "name": "stderr",
          "text": [
            "INFO:werkzeug:\u001b[31m\u001b[1mWARNING: This is a development server. Do not use it in a production deployment. Use a production WSGI server instead.\u001b[0m\n",
            " * Running on http://127.0.0.1:5000\n",
            "INFO:werkzeug:\u001b[33mPress CTRL+C to quit\u001b[0m\n",
            "INFO:werkzeug: * Restarting with watchdog (inotify)\n"
          ]
        }
      ]
    },
    {
      "source": [
        "<!DOCTYPE html>\n",
        "<html>\n",
        "<head>\n",
        "    <title>Risk Assessment</title>\n",
        "</head>\n",
        "<body>\n",
        "    <h1>Risk Assessment</h1>\n",
        "\n",
        "    <form method=\"POST\">\n",
        "        <label for=\"hazard\">Hazard:</label>\n",
        "        <input type=\"text\" id=\"hazard\" name=\"hazard\" required><br><br>\n",
        "\n",
        "        <label for=\"likelihood\">Likelihood:</label>\n",
        "        <select id=\"likelihood\" name=\"likelihood\" required>\n",
        "            <option value=\"High\">High</option>\n",
        "            <option value=\"Medium\">Medium</option>\n",
        "            <option value=\"Low\">Low</option>\n",
        "        </select><br><br>\n",
        "\n",
        "        <label for=\"severity\">Severity:</label>\n",
        "        <select id=\"severity\" name=\"severity\" required>\n",
        "            <option value=\"High\">High</option>\n",
        "            <option value=\"Medium\">Medium</option>\n",
        "            <option value=\"Low\">Low</option>\n",
        "        </select><br><br>\n",
        "\n",
        "        <input type=\"submit\" value=\"Assess Risk\">\n",
        "    </form>\n",
        "\n",
        "    {% if risk_level %}\n",
        "        <h2>Risk Level: {{ risk_level }}</h2>\n",
        "    {% endif %}\n",
        "\n",
        "</body>\n",
        "</html>"
      ],
      "cell_type": "code",
      "metadata": {
        "id": "eEqLyU-1DVZa",
        "outputId": "7407908c-460f-47bc-ea26-4d3df05a09fb",
        "colab": {
          "base_uri": "https://localhost:8080/",
          "height": 106
        }
      },
      "execution_count": 24,
      "outputs": [
        {
          "output_type": "error",
          "ename": "SyntaxError",
          "evalue": "invalid syntax (<ipython-input-24-73fed0b8b303>, line 1)",
          "traceback": [
            "\u001b[0;36m  File \u001b[0;32m\"<ipython-input-24-73fed0b8b303>\"\u001b[0;36m, line \u001b[0;32m1\u001b[0m\n\u001b[0;31m    <!DOCTYPE html>\u001b[0m\n\u001b[0m    ^\u001b[0m\n\u001b[0;31mSyntaxError\u001b[0m\u001b[0;31m:\u001b[0m invalid syntax\n"
          ]
        }
      ]
    }
  ],
  "metadata": {
    "colab": {
      "collapsed_sections": [
        "Tce3stUlHN0L"
      ],
      "name": "aistudio_gemini_prompt_freeform.ipynb",
      "toc_visible": true,
      "provenance": [],
      "include_colab_link": true
    },
    "kernelspec": {
      "display_name": "Python 3",
      "name": "python3"
    }
  },
  "nbformat": 4,
  "nbformat_minor": 0
}